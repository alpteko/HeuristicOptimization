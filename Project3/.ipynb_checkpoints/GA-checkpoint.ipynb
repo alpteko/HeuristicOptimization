{
 "cells": [
  {
   "cell_type": "code",
   "execution_count": 1,
   "metadata": {
    "collapsed": true
   },
   "outputs": [],
   "source": [
    "import numpy as np\n",
    "import random\n",
    "from copy import deepcopy as cp"
   ]
  },
  {
   "cell_type": "code",
   "execution_count": 2,
   "metadata": {
    "collapsed": true
   },
   "outputs": [],
   "source": [
    "#reads the dataset\n",
    "#operationTimes[i][j]: operation time of job i on machine j\n",
    "def readSet(setName):\n",
    "    f = open(setName, 'r')\n",
    "    readingParams=True\n",
    "    operationTimes=[]\n",
    "    for line in f:\n",
    "        line=line.split()\n",
    "        if readingParams:\n",
    "            numberOfJobs=int(line[0])\n",
    "            numberOfMachines=int(line[1])\n",
    "            readingParams=False\n",
    "        else:\n",
    "            machines=[]\n",
    "            for i in range(0,numberOfMachines):\n",
    "                machines.append(int(line[(2*i)+1]))\n",
    "            operationTimes.append(machines)\n",
    "    return operationTimes,numberOfJobs,numberOfMachines   \n",
    "\n",
    "#generates population according to number of jobs and population size\n",
    "def generatePopulation(numberOfJobs, populationSize):\n",
    "    np.random.seed(1)\n",
    "    population=[]\n",
    "    for size in range (0,populationSize):\n",
    "        population.append(np.random.permutation(numberOfJobs))\n",
    "    return population\n",
    "\n",
    "#calculates completion times of all jobs and machines\n",
    "#completionTimes[i][j]: completion time of ith job in individual and machine j\n",
    "#for example if individual=[2,5,6,1,0,3,4,7]\n",
    "#completionTimes[1][j]: completion time of 1st job in individual (which is job 2) and machine j\n",
    "#completionTimes[2][j]: completion time of 2nd job in individual (which is job 5) and machine j\n",
    "def calculateCompletionTime(individual,emptyCompletionTimes,operationTimes,numberOfJobs,numberOfMachines):\n",
    "    completionTimes=cp(emptyCompletionTimes)\n",
    "    for k in range(0,numberOfJobs):\n",
    "        job=individual[k]\n",
    "        if k==0:\n",
    "            for l in range (0,numberOfMachines):\n",
    "                if l==0:       \n",
    "                    completionTimes[k][l]=operationTimes[job][l]\n",
    "                else:\n",
    "                    completionTimes[k][l]=operationTimes[job][l]+completionTimes[k][l-1]\n",
    "        else:\n",
    "            for l in range (0,numberOfMachines):\n",
    "                if l==0:\n",
    "                    completionTimes[k][l]=operationTimes[job][l]+completionTimes[k-1][l]\n",
    "                else:\n",
    "                    completionTimes[k][l]=operationTimes[job][l]+max(completionTimes[k][l-1],completionTimes[k-1][l])\n",
    "    return completionTimes   "
   ]
  },
  {
   "cell_type": "code",
   "execution_count": 3,
   "metadata": {
    "scrolled": true
   },
   "outputs": [],
   "source": [
    "#SOLUTION REPRESENTATION: PERMUTATION REPRESENTATION\n",
    "#iterates over data sets\n",
    "for s in range(1,4):\n",
    "    #reads data set\n",
    "    operationTimes,numberOfJobs,numberOfMachines=readSet('instance%s.txt' % s)\n",
    "    \n",
    "    #optimal values for different data sets\n",
    "    optimal=0\n",
    "    if s==1:\n",
    "        optimal=4534\n",
    "    elif s==2:\n",
    "        optimal=920\n",
    "    elif s==3:\n",
    "        optimal=1302\n",
    "    \n",
    "    #generates random population\n",
    "    populationSize=100\n",
    "    population=generatePopulation(numberOfJobs, populationSize)\n",
    "    completionTimes=np.zeros((numberOfJobs,numberOfMachines))\n",
    "\n",
    "    #parent selection: binary tournament method\n",
    "    #select candidate parents randomly\n",
    "    #2*m parents are selected\n",
    "    m=10\n",
    "    candidates=np.random.randint(populationSize, size=4*m)\n",
    "    parents=[]\n",
    "    for r in range(0,2*m):\n",
    "        #randomly choose 2 parents\n",
    "        can0=population[candidates[r*2]]\n",
    "        can1=population[candidates[(r*2)+1]]\n",
    "        #calculate completion times and makespans\n",
    "        cT0=calculateCompletionTime(can0,completionTimes,operationTimes,numberOfJobs,numberOfMachines)\n",
    "        makespan0=cT0[numberOfJobs-1][numberOfMachines-1]\n",
    "        cT1=calculateCompletionTime(can1,completionTimes,operationTimes,numberOfJobs,numberOfMachines)\n",
    "        makespan1=cT1[numberOfJobs-1][numberOfMachines-1] \n",
    "        if makespan0<makespan1:\n",
    "            parents.append(can0)\n",
    "        else:\n",
    "            parents.append(can1)\n",
    "    #parents: size 2*m, each element is a permutation representation of a parent"
   ]
  },
  {
   "cell_type": "code",
   "execution_count": null,
   "metadata": {
    "collapsed": true
   },
   "outputs": [],
   "source": []
  }
 ],
 "metadata": {
  "kernelspec": {
   "display_name": "Python 3",
   "language": "python",
   "name": "python3"
  },
  "language_info": {
   "codemirror_mode": {
    "name": "ipython",
    "version": 3
   },
   "file_extension": ".py",
   "mimetype": "text/x-python",
   "name": "python",
   "nbconvert_exporter": "python",
   "pygments_lexer": "ipython3",
   "version": "3.5.2"
  }
 },
 "nbformat": 4,
 "nbformat_minor": 2
}
