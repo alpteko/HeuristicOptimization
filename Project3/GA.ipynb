{
 "cells": [
  {
   "cell_type": "code",
   "execution_count": 1,
   "metadata": {
    "collapsed": true
   },
   "outputs": [],
   "source": [
    "import numpy as np\n",
    "import random\n",
    "from copy import deepcopy as cp"
   ]
  },
  {
   "cell_type": "code",
   "execution_count": 2,
   "metadata": {},
   "outputs": [],
   "source": [
    "#reads the dataset\n",
    "#operationTimes[i][j]: operation time of job i on machine j\n",
    "def readSet(setName):\n",
    "    f = open(setName, 'r')\n",
    "    readingParams=True\n",
    "    operationTimes=[]\n",
    "    for line in f:\n",
    "        line=line.split()\n",
    "        if readingParams:\n",
    "            numberOfJobs=int(line[0])\n",
    "            numberOfMachines=int(line[1])\n",
    "            readingParams=False\n",
    "        else:\n",
    "            machines=[]\n",
    "            for i in range(0,numberOfMachines):\n",
    "                machines.append(int(line[(2*i)+1]))\n",
    "            operationTimes.append(machines)\n",
    "    return operationTimes,numberOfJobs,numberOfMachines   \n",
    "\n",
    "#generates population according to number of jobs and population size\n",
    "def generatePopulation(numberOfJobs, populationSize):\n",
    "    np.random.seed(1)\n",
    "    population=[]\n",
    "    for size in range (0,populationSize):\n",
    "        population.append(np.random.permutation(numberOfJobs))\n",
    "    return population\n",
    "\n",
    "#calculates completion times of all jobs and machines\n",
    "#completionTimes[i][j]: completion time of ith job in individual and machine j\n",
    "#for example if individual=[2,5,6,1,0,3,4,7]\n",
    "#completionTimes[1][j]: completion time of 1st job in individual (which is job 2) and machine j\n",
    "#completionTimes[2][j]: completion time of 2nd job in individual (which is job 5) and machine j\n",
    "def calculateCompletionTime(individual,emptyCompletionTimes,operationTimes,numberOfJobs,numberOfMachines):\n",
    "    completionTimes=cp(emptyCompletionTimes)\n",
    "    for k in range(0,numberOfJobs):\n",
    "        job=individual[k]\n",
    "        if k==0:\n",
    "            for l in range (0,numberOfMachines):\n",
    "                if l==0:       \n",
    "                    completionTimes[k][l]=operationTimes[job][l]\n",
    "                else:\n",
    "                    completionTimes[k][l]=operationTimes[job][l]+completionTimes[k][l-1]\n",
    "        else:\n",
    "            for l in range (0,numberOfMachines):\n",
    "                if l==0:\n",
    "                    completionTimes[k][l]=operationTimes[job][l]+completionTimes[k-1][l]\n",
    "                else:\n",
    "                    completionTimes[k][l]=operationTimes[job][l]+max(completionTimes[k][l-1],completionTimes[k-1][l])  \n",
    "    return completionTimes   "
   ]
  },
  {
   "cell_type": "code",
   "execution_count": 3,
   "metadata": {
    "scrolled": true
   },
   "outputs": [],
   "source": [
    "#SOLUTION REPRESENTATION: PERMUTATION REPRESENTATION\n",
    "#reads first data set\n",
    "operationTimes,numberOfJobs,numberOfMachines=readSet('instance1.txt')\n",
    "\n",
    "#generates random population\n",
    "populationSize=100\n",
    "population=generatePopulation(numberOfJobs, populationSize)\n",
    "completionTimes=np.zeros((numberOfJobs,numberOfMachines))\n",
    "\n",
    "#parent selection: binary tournament method\n",
    "#select candidate parents randomly\n",
    "candidates=np.random.randint(populationSize, size=4)\n",
    "#randomly choose 2 parents\n",
    "can0=population[candidates[0]]\n",
    "can1=population[candidates[1]]\n",
    "#calculate completion times and makespans\n",
    "oT0=calculateCompletionTime(can0,completionTimes,operationTimes,numberOfJobs,numberOfMachines)\n",
    "makespan0=oT0[numberOfJobs-1][numberOfMachines-1]\n",
    "oT1=calculateCompletionTime(can1,completionTimes,operationTimes,numberOfJobs,numberOfMachines)\n",
    "makespan1=oT1[numberOfJobs-1][numberOfMachines-1]\n",
    "#take the best candidate as parent\n",
    "if makespan0<makespan1:\n",
    "    parent0=cp(can0)\n",
    "else:\n",
    "    parent0=cp(can1)\n",
    "#randomly choose 2 parents\n",
    "can2=population[candidates[2]]\n",
    "can3=population[candidates[3]]\n",
    "#calculate completion times and makespans\n",
    "oT2=calculateCompletionTime(can2,completionTimes,operationTimes,numberOfJobs,numberOfMachines)\n",
    "makespan2=oT2[numberOfJobs-1][numberOfMachines-1]\n",
    "oT3=calculateCompletionTime(can3,completionTimes,operationTimes,numberOfJobs,numberOfMachines)\n",
    "makespan3=oT3[numberOfJobs-1][numberOfMachines-1]\n",
    "#take the best candidate as parent\n",
    "if makespan2<makespan3:\n",
    "    parent1=cp(can2)\n",
    "else:\n",
    "    parent1=cp(can3)\n",
    "#parent0 and parent1 are selected as parents"
   ]
  },
  {
   "cell_type": "code",
   "execution_count": null,
   "metadata": {
    "collapsed": true
   },
   "outputs": [],
   "source": []
  }
 ],
 "metadata": {
  "kernelspec": {
   "display_name": "Python 3",
   "language": "python",
   "name": "python3"
  },
  "language_info": {
   "codemirror_mode": {
    "name": "ipython",
    "version": 3
   },
   "file_extension": ".py",
   "mimetype": "text/x-python",
   "name": "python",
   "nbconvert_exporter": "python",
   "pygments_lexer": "ipython3",
   "version": "3.5.2"
  }
 },
 "nbformat": 4,
 "nbformat_minor": 2
}
