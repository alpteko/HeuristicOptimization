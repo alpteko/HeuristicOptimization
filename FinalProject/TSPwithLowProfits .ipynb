{
 "cells": [
  {
   "cell_type": "code",
   "execution_count": 11,
   "metadata": {},
   "outputs": [],
   "source": [
    "import numpy as np"
   ]
  },
  {
   "cell_type": "code",
   "execution_count": 12,
   "metadata": {},
   "outputs": [],
   "source": [
    "def load_data(h,size):\n",
    "    if h == 1:\n",
    "        data = np.loadtxt('h'+str(size)+'.txt')\n",
    "    elif h == 0:\n",
    "        data = np.loadtxt('l'+str(size)+'.txt')\n",
    "    else:\n",
    "        print('Error.')\n",
    "    proftis = data[:,3]\n",
    "    data = data[:,1:3]\n",
    "    return data,proftis"
   ]
  },
  {
   "cell_type": "code",
   "execution_count": 13,
   "metadata": {},
   "outputs": [],
   "source": [
    "data = None\n",
    "profits = None\n",
    "disMat = None\n",
    "inner_epochs = 500\n",
    "meta_epochs = 5000\n",
    "size = None"
   ]
  },
  {
   "cell_type": "code",
   "execution_count": 3,
   "metadata": {},
   "outputs": [],
   "source": [
    "def modification(tour):\n",
    "    #return np.random.permutation(tour)\n",
    "    return tour\n",
    "def initial_tour(size):\n",
    "    l = int(size/4)\n",
    "    tour = np.zeros((l+1))\n",
    "    tour[0] = 0\n",
    "    tour[l] = 0\n",
    "    tour[1:l] = np.random.choice(size-1,l-1,replace=False)+1\n",
    "    return tour\n",
    "def tour_cost(tour):\n",
    "    global disMat,profits\n",
    "    tour_length = len(tour)\n",
    "    cost = 0\n",
    "    for i in range(tour_length-1):\n",
    "        cost += disMat[int(tour[i]),int(tour[i+1])]\n",
    "        cost -= profits[i]\n",
    "    return cost\n",
    "def simulated_annealing(tour,epochs,cost):\n",
    "    length = len(tour)\n",
    "    Tinit = 5\n",
    "    Tfinal = 1\n",
    "    for k in range(epochs):\n",
    "        T = np.power(Tinit*(Tfinal/Tinit),k/epochs)\n",
    "        if length < 4:\n",
    "            return tour,cost\n",
    "        choices = np.random.choice(length-2,2,replace=False);\n",
    "        choices = choices +1\n",
    "        i = min(choices)\n",
    "        j = max(choices)\n",
    "        new_tour = np.copy(tour);\n",
    "        new_tour[i:j+1] = tour[i:j+1][::-1];\n",
    "        new_cost = tour_cost(new_tour)\n",
    "        delta = new_cost - cost\n",
    "        p = min(np.exp(-delta/T),1)\n",
    "        if np.random.rand() < p:\n",
    "            tour = np.copy(new_tour)\n",
    "            cost = new_cost\n",
    "    return np.copy(tour),cost\n",
    "def insert(tour):\n",
    "    length = len(tour)\n",
    "    if length == size+1:\n",
    "        return tour,tour_cost(tour)\n",
    "    else:\n",
    "        j = np.random.choice(np.setdiff1d(range(1,size),tour),1)\n",
    "        new_tour = np.zeros(length+1)\n",
    "        shuffle = np.copy(tour[1:length-1])\n",
    "        shuffle = np.insert(shuffle,0,j)\n",
    "        new_tour[1:length] = modification(shuffle)\n",
    "        new_cost = tour_cost(new_tour)\n",
    "        return simulated_annealing(new_tour,inner_epochs,new_cost)\n",
    "def remove(tour):\n",
    "    length = len(tour)\n",
    "    if length == 2:\n",
    "        return tour,tour_cost(tour)\n",
    "    j = np.random.choice(length-2,1)+1\n",
    "    new_tour = np.delete(tour,j)\n",
    "    new_tour[1:length-2] = modification(new_tour[1:length-2])\n",
    "    new_cost = tour_cost(new_tour)\n",
    "    return simulated_annealing(new_tour,inner_epochs,new_cost)"
   ]
  },
  {
   "cell_type": "code",
   "execution_count": 14,
   "metadata": {},
   "outputs": [],
   "source": [
    "def meta_sa(s):\n",
    "    global profits,data,disMat,size\n",
    "    size = s\n",
    "    data,profits = load_data(0,size)\n",
    "    disMat = np.zeros((size,size))\n",
    "    for i in range(size):\n",
    "        for j in range(size):\n",
    "            disMat[i,j] = np.linalg.norm(data[i,:] - data[j,:])\n",
    "    tour = initial_tour(size)\n",
    "    cost = tour_cost(tour)\n",
    "    tour,cost = simulated_annealing(tour,15000,cost)\n",
    "    length = len(tour)\n",
    "    print(cost,length)\n",
    "    Tinit = 20\n",
    "    Tfinal = 1\n",
    "    for k in range(1,meta_epochs):\n",
    "        if k % 100 == 0:\n",
    "            print(k,cost,len(tour))\n",
    "        T = np.power(Tinit*(Tfinal/Tinit),k/meta_epochs)\n",
    "        choices = np.random.choice(length-2,2,replace=False);\n",
    "        choices = choices +1\n",
    "        choices = choices +1\n",
    "        i = min(choices)\n",
    "        j = max(choices)\n",
    "        if np.random.rand() > 0.2:\n",
    "            new_tour,new_cost = insert(tour)\n",
    "        else:\n",
    "            new_tour,new_cost = remove(tour)\n",
    "        delta = new_cost - cost\n",
    "        p = min(np.exp(-delta/T),1)\n",
    "        if np.random.rand() < p:\n",
    "            tour = np.copy(new_tour)\n",
    "            cost = new_cost\n",
    "    print(cost,len(tour))"
   ]
  },
  {
   "cell_type": "code",
   "execution_count": 15,
   "metadata": {},
   "outputs": [
    {
     "name": "stdout",
     "output_type": "stream",
     "text": [
      "Low Profit   51\n",
      "97.91714450194144 13\n"
     ]
    },
    {
     "ename": "KeyboardInterrupt",
     "evalue": "",
     "output_type": "error",
     "traceback": [
      "\u001b[0;31m---------------------------------------------------------------------------\u001b[0m",
      "\u001b[0;31mKeyboardInterrupt\u001b[0m                         Traceback (most recent call last)",
      "\u001b[0;32m<ipython-input-15-a39de84c144d>\u001b[0m in \u001b[0;36m<module>\u001b[0;34m()\u001b[0m\n\u001b[1;32m      1\u001b[0m \u001b[0;32mfor\u001b[0m \u001b[0mi\u001b[0m \u001b[0;32min\u001b[0m \u001b[0;34m[\u001b[0m\u001b[0;36m51\u001b[0m\u001b[0;34m,\u001b[0m\u001b[0;36m76\u001b[0m\u001b[0;34m,\u001b[0m\u001b[0;36m101\u001b[0m\u001b[0;34m]\u001b[0m\u001b[0;34m:\u001b[0m\u001b[0;34m\u001b[0m\u001b[0m\n\u001b[1;32m      2\u001b[0m     \u001b[0mprint\u001b[0m\u001b[0;34m(\u001b[0m\u001b[0;34m'Low Profit  '\u001b[0m\u001b[0;34m,\u001b[0m\u001b[0mstr\u001b[0m\u001b[0;34m(\u001b[0m\u001b[0mi\u001b[0m\u001b[0;34m)\u001b[0m\u001b[0;34m)\u001b[0m\u001b[0;34m\u001b[0m\u001b[0m\n\u001b[0;32m----> 3\u001b[0;31m     \u001b[0mmeta_sa\u001b[0m\u001b[0;34m(\u001b[0m\u001b[0mi\u001b[0m\u001b[0;34m)\u001b[0m\u001b[0;34m\u001b[0m\u001b[0m\n\u001b[0m",
      "\u001b[0;32m<ipython-input-14-8202efc4214c>\u001b[0m in \u001b[0;36mmeta_sa\u001b[0;34m(s)\u001b[0m\n\u001b[1;32m     24\u001b[0m         \u001b[0mj\u001b[0m \u001b[0;34m=\u001b[0m \u001b[0mmax\u001b[0m\u001b[0;34m(\u001b[0m\u001b[0mchoices\u001b[0m\u001b[0;34m)\u001b[0m\u001b[0;34m\u001b[0m\u001b[0m\n\u001b[1;32m     25\u001b[0m         \u001b[0;32mif\u001b[0m \u001b[0mnp\u001b[0m\u001b[0;34m.\u001b[0m\u001b[0mrandom\u001b[0m\u001b[0;34m.\u001b[0m\u001b[0mrand\u001b[0m\u001b[0;34m(\u001b[0m\u001b[0;34m)\u001b[0m \u001b[0;34m>\u001b[0m \u001b[0;36m0.2\u001b[0m\u001b[0;34m:\u001b[0m\u001b[0;34m\u001b[0m\u001b[0m\n\u001b[0;32m---> 26\u001b[0;31m             \u001b[0mnew_tour\u001b[0m\u001b[0;34m,\u001b[0m\u001b[0mnew_cost\u001b[0m \u001b[0;34m=\u001b[0m \u001b[0minsert\u001b[0m\u001b[0;34m(\u001b[0m\u001b[0mtour\u001b[0m\u001b[0;34m)\u001b[0m\u001b[0;34m\u001b[0m\u001b[0m\n\u001b[0m\u001b[1;32m     27\u001b[0m         \u001b[0;32melse\u001b[0m\u001b[0;34m:\u001b[0m\u001b[0;34m\u001b[0m\u001b[0m\n\u001b[1;32m     28\u001b[0m             \u001b[0mnew_tour\u001b[0m\u001b[0;34m,\u001b[0m\u001b[0mnew_cost\u001b[0m \u001b[0;34m=\u001b[0m \u001b[0mremove\u001b[0m\u001b[0;34m(\u001b[0m\u001b[0mtour\u001b[0m\u001b[0;34m)\u001b[0m\u001b[0;34m\u001b[0m\u001b[0m\n",
      "\u001b[0;32m<ipython-input-3-dad3a226a6f4>\u001b[0m in \u001b[0;36minsert\u001b[0;34m(tour)\u001b[0m\n\u001b[1;32m     49\u001b[0m         \u001b[0mnew_tour\u001b[0m\u001b[0;34m[\u001b[0m\u001b[0;36m1\u001b[0m\u001b[0;34m:\u001b[0m\u001b[0mlength\u001b[0m\u001b[0;34m]\u001b[0m \u001b[0;34m=\u001b[0m \u001b[0mmodification\u001b[0m\u001b[0;34m(\u001b[0m\u001b[0mshuffle\u001b[0m\u001b[0;34m)\u001b[0m\u001b[0;34m\u001b[0m\u001b[0m\n\u001b[1;32m     50\u001b[0m         \u001b[0mnew_cost\u001b[0m \u001b[0;34m=\u001b[0m \u001b[0mtour_cost\u001b[0m\u001b[0;34m(\u001b[0m\u001b[0mnew_tour\u001b[0m\u001b[0;34m)\u001b[0m\u001b[0;34m\u001b[0m\u001b[0m\n\u001b[0;32m---> 51\u001b[0;31m         \u001b[0;32mreturn\u001b[0m \u001b[0msimulated_annealing\u001b[0m\u001b[0;34m(\u001b[0m\u001b[0mnew_tour\u001b[0m\u001b[0;34m,\u001b[0m\u001b[0minner_epochs\u001b[0m\u001b[0;34m,\u001b[0m\u001b[0mnew_cost\u001b[0m\u001b[0;34m)\u001b[0m\u001b[0;34m\u001b[0m\u001b[0m\n\u001b[0m\u001b[1;32m     52\u001b[0m \u001b[0;32mdef\u001b[0m \u001b[0mremove\u001b[0m\u001b[0;34m(\u001b[0m\u001b[0mtour\u001b[0m\u001b[0;34m)\u001b[0m\u001b[0;34m:\u001b[0m\u001b[0;34m\u001b[0m\u001b[0m\n\u001b[1;32m     53\u001b[0m     \u001b[0mlength\u001b[0m \u001b[0;34m=\u001b[0m \u001b[0mlen\u001b[0m\u001b[0;34m(\u001b[0m\u001b[0mtour\u001b[0m\u001b[0;34m)\u001b[0m\u001b[0;34m\u001b[0m\u001b[0m\n",
      "\u001b[0;32m<ipython-input-3-dad3a226a6f4>\u001b[0m in \u001b[0;36msimulated_annealing\u001b[0;34m(tour, epochs, cost)\u001b[0m\n\u001b[1;32m     25\u001b[0m         \u001b[0;32mif\u001b[0m \u001b[0mlength\u001b[0m \u001b[0;34m<\u001b[0m \u001b[0;36m4\u001b[0m\u001b[0;34m:\u001b[0m\u001b[0;34m\u001b[0m\u001b[0m\n\u001b[1;32m     26\u001b[0m             \u001b[0;32mreturn\u001b[0m \u001b[0mtour\u001b[0m\u001b[0;34m,\u001b[0m\u001b[0mcost\u001b[0m\u001b[0;34m\u001b[0m\u001b[0m\n\u001b[0;32m---> 27\u001b[0;31m         \u001b[0mchoices\u001b[0m \u001b[0;34m=\u001b[0m \u001b[0mnp\u001b[0m\u001b[0;34m.\u001b[0m\u001b[0mrandom\u001b[0m\u001b[0;34m.\u001b[0m\u001b[0mchoice\u001b[0m\u001b[0;34m(\u001b[0m\u001b[0mlength\u001b[0m\u001b[0;34m-\u001b[0m\u001b[0;36m2\u001b[0m\u001b[0;34m,\u001b[0m\u001b[0;36m2\u001b[0m\u001b[0;34m,\u001b[0m\u001b[0mreplace\u001b[0m\u001b[0;34m=\u001b[0m\u001b[0;32mFalse\u001b[0m\u001b[0;34m)\u001b[0m\u001b[0;34m;\u001b[0m\u001b[0;34m\u001b[0m\u001b[0m\n\u001b[0m\u001b[1;32m     28\u001b[0m         \u001b[0mchoices\u001b[0m \u001b[0;34m=\u001b[0m \u001b[0mchoices\u001b[0m \u001b[0;34m+\u001b[0m\u001b[0;36m1\u001b[0m\u001b[0;34m\u001b[0m\u001b[0m\n\u001b[1;32m     29\u001b[0m         \u001b[0mi\u001b[0m \u001b[0;34m=\u001b[0m \u001b[0mmin\u001b[0m\u001b[0;34m(\u001b[0m\u001b[0mchoices\u001b[0m\u001b[0;34m)\u001b[0m\u001b[0;34m\u001b[0m\u001b[0m\n",
      "\u001b[0;31mKeyboardInterrupt\u001b[0m: "
     ]
    }
   ],
   "source": [
    "for i in [51,76,101]:\n",
    "    print('Low Profit  ',str(i))\n",
    "    meta_sa(i)"
   ]
  },
  {
   "cell_type": "code",
   "execution_count": 7,
   "metadata": {},
   "outputs": [],
   "source": [
    "d,p = load_data(1,101)"
   ]
  },
  {
   "cell_type": "code",
   "execution_count": 20,
   "metadata": {},
   "outputs": [],
   "source": [
    "a =disMat.reshape([1,-1])"
   ]
  },
  {
   "cell_type": "code",
   "execution_count": 21,
   "metadata": {},
   "outputs": [],
   "source": [
    "a[a==0]=1000000"
   ]
  },
  {
   "cell_type": "code",
   "execution_count": 23,
   "metadata": {},
   "outputs": [
    {
     "data": {
      "text/plain": [
       "array([[2.23606798e+00, 2.23606798e+00, 5.00000000e+00, ...,\n",
       "        1.00000000e+06, 1.00000000e+06, 1.00000000e+06]])"
      ]
     },
     "execution_count": 23,
     "metadata": {},
     "output_type": "execute_result"
    }
   ],
   "source": []
  },
  {
   "cell_type": "code",
   "execution_count": null,
   "metadata": {},
   "outputs": [],
   "source": []
  }
 ],
 "metadata": {
  "kernelspec": {
   "display_name": "Python 3",
   "language": "python",
   "name": "python3"
  },
  "language_info": {
   "codemirror_mode": {
    "name": "ipython",
    "version": 3
   },
   "file_extension": ".py",
   "mimetype": "text/x-python",
   "name": "python",
   "nbconvert_exporter": "python",
   "pygments_lexer": "ipython3",
   "version": "3.5.2"
  }
 },
 "nbformat": 4,
 "nbformat_minor": 2
}
