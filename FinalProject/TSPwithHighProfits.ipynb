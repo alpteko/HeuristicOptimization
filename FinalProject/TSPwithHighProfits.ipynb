{
 "cells": [
  {
   "cell_type": "code",
   "execution_count": 1,
   "metadata": {},
   "outputs": [],
   "source": [
    "import numpy as np\n",
    "import time"
   ]
  },
  {
   "cell_type": "code",
   "execution_count": 2,
   "metadata": {},
   "outputs": [],
   "source": [
    "def load_data(h,size):\n",
    "    if h == 1:\n",
    "        data = np.loadtxt('h'+str(size)+'.txt')\n",
    "    elif h == 0:\n",
    "        data = np.loadtxt('l'+str(size)+'.txt')\n",
    "    else:\n",
    "        print('Error.')\n",
    "    proftis = data[:,3]\n",
    "    data = data[:,1:3]\n",
    "    return data,proftis"
   ]
  },
  {
   "cell_type": "code",
   "execution_count": 3,
   "metadata": {},
   "outputs": [],
   "source": [
    "data = None\n",
    "profits = None\n",
    "disMat = None\n",
    "inner_epochs =1000\n",
    "meta_epochs = 2000\n",
    "size = None"
   ]
  },
  {
   "cell_type": "code",
   "execution_count": 4,
   "metadata": {},
   "outputs": [],
   "source": [
    "def modification(tour):\n",
    "    #return np.random.permutation(tour)\n",
    "    return tour\n",
    "def initial_tour(size):\n",
    "    l = int(size*0.75)\n",
    "    tour = np.zeros((l+1))\n",
    "    tour[0] = 0\n",
    "    tour[l] = 0\n",
    "    tour[1:l] = np.random.choice(size-1,l-1,replace=False)+1\n",
    "    return tour\n",
    "def tour_cost(tour):\n",
    "    global disMat,profits\n",
    "    tour_length = len(tour)\n",
    "    cost = 0\n",
    "    for i in range(tour_length-1):\n",
    "        cost += disMat[int(tour[i]),int(tour[i+1])]\n",
    "        cost -= profits[i]\n",
    "    return cost\n",
    "def simulated_annealing(tour,epochs,cost):\n",
    "    length = len(tour)\n",
    "    Tinit = 5\n",
    "    Tfinal = 1\n",
    "    for k in range(epochs):\n",
    "        T = np.power(Tinit*(Tfinal/Tinit),k/epochs)\n",
    "        choices = np.random.choice(length-2,2,replace=False);\n",
    "        choices = choices +1\n",
    "        i = min(choices)\n",
    "        j = max(choices)\n",
    "        new_tour = np.copy(tour);\n",
    "        new_tour[i:j+1] = tour[i:j+1][::-1];\n",
    "        new_cost = tour_cost(new_tour)\n",
    "        delta = new_cost - cost\n",
    "        p = min(np.exp(-delta/T),1)\n",
    "        if np.random.rand() < p:\n",
    "            tour = np.copy(new_tour)\n",
    "            cost = new_cost\n",
    "    return np.copy(tour),cost\n",
    "def insert(tour):\n",
    "    length = len(tour)\n",
    "    if length == size+1:\n",
    "        return simulated_annealing(tour,500,tour_cost(tour))\n",
    "    else:\n",
    "        j = np.random.choice(np.setdiff1d(range(1,size),tour),1)\n",
    "        new_tour = np.zeros(length+1)\n",
    "        shuffle = np.copy(tour[1:length-1])\n",
    "        j_ = np.random.randint(len(shuffle))\n",
    "        shuffle = np.insert(shuffle,j_,j)\n",
    "        new_tour[1:length] = modification(shuffle)\n",
    "        new_cost = tour_cost(new_tour)\n",
    "        return simulated_annealing(new_tour,inner_epochs,new_cost)\n",
    "def remove(tour):\n",
    "    length = len(tour)\n",
    "    #j = np.random.choice(length-2,1)+1\n",
    "    can = profits[tour[1:length-1]]\n",
    "    j = np.argmin(can)\n",
    "    new_tour = np.delete(tour,j+1)\n",
    "    new_tour[1:length-2] = modification(new_tour[1:length-2])\n",
    "    new_cost = tour_cost(new_tour)\n",
    "    return simulated_annealing(new_tour,200,new_cost)"
   ]
  },
  {
   "cell_type": "code",
   "execution_count": 5,
   "metadata": {},
   "outputs": [],
   "source": [
    "def meta_sa(s):\n",
    "    global profits,data,disMat,size\n",
    "    size = s\n",
    "    data,profits = load_data(1,size)\n",
    "    disMat = np.zeros((size,size))\n",
    "    best_tour = None\n",
    "    best_cost = 0\n",
    "    for i in range(size):\n",
    "        for j in range(size):\n",
    "            disMat[i,j] = np.linalg.norm(data[i,:] - data[j,:])\n",
    "    tour = initial_tour(size)\n",
    "    cost = tour_cost(tour)\n",
    "    tour,cost = simulated_annealing(tour,200,cost)\n",
    "    length = len(tour)\n",
    "    print(cost,length)\n",
    "    Tinit = 10\n",
    "    Tfinal = 1\n",
    "    for k in range(1,meta_epochs):\n",
    "        if k % 100 == 0:\n",
    "            print(k,cost,len(tour))\n",
    "        T = np.power(Tinit*(Tfinal/Tinit),k/meta_epochs)\n",
    "        p = np.random.rand() \n",
    "        if p > 0.66:\n",
    "            new_tour,new_cost = insert(tour)\n",
    "        elif 0.66 < p and 0.33 < p:\n",
    "            new_tour,new_cost = remove(tour)\n",
    "        else:\n",
    "            new_tour,new_cost = simulated_annealing(tour,1000,cost)\n",
    "        delta = new_cost - cost\n",
    "        p = min(np.exp(-delta/T),1)\n",
    "        if np.random.rand() < p:\n",
    "            tour = np.copy(new_tour)\n",
    "            cost = new_cost\n",
    "        if cost < best_cost:\n",
    "            best_tour = tour\n",
    "            best_cost = cost\n",
    "    return best_tour"
   ]
  },
  {
   "cell_type": "code",
   "execution_count": 6,
   "metadata": {},
   "outputs": [
    {
     "name": "stdout",
     "output_type": "stream",
     "text": [
      "-201.18454879270854 39\n",
      "100 -685.0219283349559 52\n",
      "200 -692.1616471333784 52\n",
      "300 -691.8225500800082 52\n",
      "400 -697.1038278044698 52\n",
      "500 -698.5931915564274 52\n",
      "600 -698.3990706972731 52\n",
      "700 -699.0185286978301 52\n",
      "800 -696.8077943041044 52\n",
      "900 -699.3757785151831 52\n",
      "1000 -698.1453406852139 52\n",
      "1100 -697.8850284919546 52\n",
      "1200 -700.331609676424 52\n",
      "1300 -700.442944710775 52\n",
      "1400 -701.3083174943336 52\n",
      "1500 -701.3083174943336 52\n",
      "1600 -701.554500302125 52\n",
      "1700 -701.5545003021255 52\n",
      "1800 -701.5545003021255 52\n",
      "1900 -699.8137398312015 52\n",
      "-701.5545003021255 52 124.87832164764404\n",
      "[ 0. 21.  7. 25. 30. 27.  2. 35. 34. 19. 28.  1. 15. 49. 20. 33. 29.  9.\n",
      " 38. 32. 44. 14. 43. 41. 18. 39. 40. 12. 24. 13. 23. 42.  6. 22. 47.  5.\n",
      " 26. 50. 45. 11. 46. 17.  3. 16. 36.  4. 48.  8. 37. 10. 31.  0.]\n"
     ]
    }
   ],
   "source": [
    "start = time.time()\n",
    "tour_1 = meta_sa(51)\n",
    "cpu_usage = (time.time()-start)\n",
    "cost_1 = tour_cost(tour_1)\n",
    "print(cost_1,len(tour_1),cpu_usage)\n",
    "print(tour_1)"
   ]
  },
  {
   "cell_type": "code",
   "execution_count": 7,
   "metadata": {},
   "outputs": [
    {
     "name": "stdout",
     "output_type": "stream",
     "text": [
      "-256.6767286654101 58\n",
      "100 -1100.0091634274092 71\n",
      "200 -1219.7449260585736 77\n",
      "300 -1220.6302795369177 77\n",
      "400 -1222.5473597419825 77\n",
      "500 -1229.202247872615 77\n",
      "600 -1228.5009684013073 77\n",
      "700 -1228.5950158530595 77\n",
      "800 -1230.3596421934606 77\n",
      "900 -1230.3816412601466 77\n",
      "1000 -1231.1845328190714 77\n",
      "1100 -1230.6212989328876 77\n",
      "1200 -1230.3926753961587 77\n",
      "1300 -1230.6024666429446 77\n",
      "1400 -1230.5992998662014 77\n",
      "1500 -1230.7169343991848 77\n",
      "1600 -1231.3750371460467 77\n",
      "1700 -1230.4339613826548 77\n",
      "1800 -1228.118002542319 77\n",
      "1900 -1231.3970362127327 77\n",
      "-1231.3970362127327 77 154.4610617160797\n",
      "[ 0. 32. 62. 15. 50. 16. 39. 11. 25. 66. 75. 74.  3. 67.  5.  1. 73. 29.\n",
      " 44. 28. 47. 46. 20. 68. 35. 70. 59. 69. 19. 36.  4. 14. 56. 12. 26. 51.\n",
      " 33. 45.  7. 53. 18. 34.  6. 52. 13. 58. 10. 65. 64. 37. 30.  9. 57. 71.\n",
      " 38.  8. 24. 54. 17. 49. 31. 43.  2. 23. 48. 22. 55. 40. 42. 41. 63. 21.\n",
      " 60. 27. 61. 72.  0.]\n"
     ]
    }
   ],
   "source": [
    "start = time.time()\n",
    "tour_2 = meta_sa(76)\n",
    "cpu_usage = (time.time()-start)\n",
    "cost_2 = tour_cost(tour_2)\n",
    "print(cost_2,len(tour_2),cpu_usage)\n",
    "print(tour_2)"
   ]
  },
  {
   "cell_type": "code",
   "execution_count": null,
   "metadata": {},
   "outputs": [
    {
     "name": "stdout",
     "output_type": "stream",
     "text": [
      "-163.8198474978656 76\n",
      "100 -1287.558862365599 82\n",
      "200 -1303.3225782953068 83\n",
      "300 -1340.74903874781 86\n",
      "400 -1405.215916152828 91\n",
      "500 -1415.6917700834692 93\n",
      "600 -1603.616444603329 102\n",
      "700 -1612.7978383309683 102\n",
      "800 -1614.437736612575 102\n",
      "900 -1617.0964154743015 102\n",
      "1000 -1612.3235894097918 102\n"
     ]
    }
   ],
   "source": [
    "start = time.time()\n",
    "tour_3 = meta_sa(101)\n",
    "cpu_usage = (time.time()-start)\n",
    "cost_3 = tour_cost(tour_3)\n",
    "print(cost_3,len(tour_3),cpu_usage)\n",
    "print(tour_3)"
   ]
  },
  {
   "cell_type": "code",
   "execution_count": null,
   "metadata": {},
   "outputs": [],
   "source": [
    "len(tour_2)"
   ]
  },
  {
   "cell_type": "code",
   "execution_count": null,
   "metadata": {},
   "outputs": [],
   "source": [
    "len(tour_3)"
   ]
  },
  {
   "cell_type": "code",
   "execution_count": null,
   "metadata": {},
   "outputs": [],
   "source": [
    "profits[[1,2,4]]\n"
   ]
  },
  {
   "cell_type": "code",
   "execution_count": null,
   "metadata": {},
   "outputs": [],
   "source": []
  }
 ],
 "metadata": {
  "kernelspec": {
   "display_name": "Python 3",
   "language": "python",
   "name": "python3"
  },
  "language_info": {
   "codemirror_mode": {
    "name": "ipython",
    "version": 3
   },
   "file_extension": ".py",
   "mimetype": "text/x-python",
   "name": "python",
   "nbconvert_exporter": "python",
   "pygments_lexer": "ipython3",
   "version": "3.5.2"
  }
 },
 "nbformat": 4,
 "nbformat_minor": 2
}
