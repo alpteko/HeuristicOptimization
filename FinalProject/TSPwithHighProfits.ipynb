{
 "cells": [
  {
   "cell_type": "code",
   "execution_count": 1,
   "metadata": {},
   "outputs": [],
   "source": [
    "import numpy as np"
   ]
  },
  {
   "cell_type": "code",
   "execution_count": 2,
   "metadata": {},
   "outputs": [],
   "source": [
    "def load_data(h,size):\n",
    "    if h == 1:\n",
    "        data = np.loadtxt('h'+str(size)+'.txt')\n",
    "    elif h == 0:\n",
    "        data = np.loadtxt('l'+str(size)+'.txt')\n",
    "    else:\n",
    "        print('Error.')\n",
    "    proftis = data[:,3]\n",
    "    data = data[:,1:3]\n",
    "    return data,proftis"
   ]
  },
  {
   "cell_type": "code",
   "execution_count": 3,
   "metadata": {},
   "outputs": [],
   "source": [
    "data = None\n",
    "profits = None\n",
    "disMat = None\n",
    "inner_epochs = 10000\n",
    "meta_epochs = 5000\n",
    "size = None"
   ]
  },
  {
   "cell_type": "code",
   "execution_count": 4,
   "metadata": {},
   "outputs": [],
   "source": [
    "def modification(tour):\n",
    "    #return np.random.permutation(tour)\n",
    "    return tour\n",
    "def initial_tour(size):\n",
    "    l = int(size*0.8)\n",
    "    tour = np.zeros((l+1))\n",
    "    tour[0] = 0\n",
    "    tour[l] = 0\n",
    "    tour[1:l] = np.random.choice(size-1,l-1,replace=False)+1\n",
    "    return tour\n",
    "def tour_cost(tour):\n",
    "    global disMat,profits\n",
    "    tour_length = len(tour)\n",
    "    cost = 0\n",
    "    for i in range(tour_length-1):\n",
    "        cost += disMat[int(tour[i]),int(tour[i+1])]\n",
    "        cost -= profits[i]\n",
    "    return cost\n",
    "def simulated_annealing(tour,epochs,cost):\n",
    "    length = len(tour)\n",
    "    Tinit = 5\n",
    "    Tfinal = 1\n",
    "    for k in range(epochs):\n",
    "        T = np.power(Tinit*(Tfinal/Tinit),k/epochs)\n",
    "        choices = np.random.choice(length-2,2,replace=False);\n",
    "        choices = choices +1\n",
    "        i = min(choices)\n",
    "        j = max(choices)\n",
    "        new_tour = np.copy(tour);\n",
    "        new_tour[i:j+1] = tour[i:j+1][::-1];\n",
    "        new_cost = tour_cost(new_tour)\n",
    "        delta = new_cost - cost\n",
    "        p = min(np.exp(-delta/T),1)\n",
    "        if np.random.rand() < p:\n",
    "            tour = np.copy(new_tour)\n",
    "            cost = new_cost\n",
    "    return np.copy(tour),cost\n",
    "def insert(tour):\n",
    "    length = len(tour)\n",
    "    if length == size+1:\n",
    "        return tour,tour_cost(tour)\n",
    "    else:\n",
    "        j = np.random.choice(np.setdiff1d(range(1,size),tour),1)\n",
    "        new_tour = np.zeros(length+1)\n",
    "        shuffle = np.copy(tour[1:length-1])\n",
    "        shuffle = np.insert(shuffle,0,j)\n",
    "        new_tour[1:length] = modification(shuffle)\n",
    "        new_cost = tour_cost(new_tour)\n",
    "        return simulated_annealing(new_tour,inner_epochs,new_cost)\n",
    "def remove(tour):\n",
    "    length = len(tour)\n",
    "    j = np.random.choice(length-2,1)+1\n",
    "    new_tour = np.delete(tour,j)\n",
    "    new_tour[1:length-2] = modification(new_tour[1:length-2])\n",
    "    new_cost = tour_cost(new_tour)\n",
    "    return simulated_annealing(new_tour,inner_epochs,new_cost)"
   ]
  },
  {
   "cell_type": "code",
   "execution_count": 5,
   "metadata": {},
   "outputs": [],
   "source": [
    "def meta_sa(s):\n",
    "    global profits,data,disMat,size\n",
    "    size = s\n",
    "    data,profits = load_data(1,size)\n",
    "    disMat = np.zeros((size,size))\n",
    "    for i in range(size):\n",
    "        for j in range(size):\n",
    "            disMat[i,j] = np.linalg.norm(data[i,:] - data[j,:])\n",
    "    tour = initial_tour(size)\n",
    "    cost = tour_cost(tour)\n",
    "    tour,cost = simulated_annealing(tour,15000,cost)\n",
    "    length = len(tour)\n",
    "    print(cost,length)\n",
    "    Tinit = 10\n",
    "    Tfinal = 1\n",
    "    for k in range(1,meta_epochs):\n",
    "        T = np.power(Tinit*(Tfinal/Tinit),k/meta_epochs)\n",
    "        choices = np.random.choice(length-2,2,replace=False);\n",
    "        choices = choices +1\n",
    "        choices = choices +1\n",
    "        i = min(choices)\n",
    "        j = max(choices)\n",
    "        if np.random.rand() > 0.1:\n",
    "            new_tour,new_cost = insert(tour)\n",
    "        else:\n",
    "            new_tour,new_cost = remove(tour)\n",
    "        delta = new_cost - cost\n",
    "        p = min(np.exp(-delta/T),1)\n",
    "        if np.random.rand() < p:\n",
    "            tour = np.copy(new_tour)\n",
    "            cost = new_cost\n",
    "    print(cost,len(tour))"
   ]
  },
  {
   "cell_type": "code",
   "execution_count": null,
   "metadata": {},
   "outputs": [
    {
     "name": "stdout",
     "output_type": "stream",
     "text": [
      "High Profit   51\n",
      "-501.2183290873953 41\n",
      "-706.2291111150735 51\n",
      "High Profit   76\n",
      "-877.5330655653439 61\n",
      "-1249.6785581596043 76\n",
      "High Profit   101\n",
      "-1288.278463800659 81\n"
     ]
    }
   ],
   "source": [
    "for i in [51,76,101]:\n",
    "    print('High Profit  ',str(i))\n",
    "    meta_sa(i)"
   ]
  },
  {
   "cell_type": "code",
   "execution_count": null,
   "metadata": {},
   "outputs": [],
   "source": []
  }
 ],
 "metadata": {
  "kernelspec": {
   "display_name": "Python 3",
   "language": "python",
   "name": "python3"
  },
  "language_info": {
   "codemirror_mode": {
    "name": "ipython",
    "version": 3
   },
   "file_extension": ".py",
   "mimetype": "text/x-python",
   "name": "python",
   "nbconvert_exporter": "python",
   "pygments_lexer": "ipython3",
   "version": "3.5.2"
  }
 },
 "nbformat": 4,
 "nbformat_minor": 2
}
