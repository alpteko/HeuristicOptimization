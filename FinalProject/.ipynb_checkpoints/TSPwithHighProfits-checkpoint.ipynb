{
 "cells": [
  {
   "cell_type": "code",
   "execution_count": 1,
   "metadata": {},
   "outputs": [],
   "source": [
    "import numpy as np\n",
    "import time"
   ]
  },
  {
   "cell_type": "code",
   "execution_count": 2,
   "metadata": {},
   "outputs": [],
   "source": [
    "def load_data(h,size):\n",
    "    if h == 1:\n",
    "        data = np.loadtxt('h'+str(size)+'.txt')\n",
    "    elif h == 0:\n",
    "        data = np.loadtxt('l'+str(size)+'.txt')\n",
    "    else:\n",
    "        print('Error.')\n",
    "    proftis = data[:,3]\n",
    "    data = data[:,1:3]\n",
    "    return data,proftis"
   ]
  },
  {
   "cell_type": "code",
   "execution_count": 3,
   "metadata": {},
   "outputs": [],
   "source": [
    "data = None\n",
    "profits = None\n",
    "disMat = None\n",
    "inner_epochs =1000\n",
    "meta_epochs = 2000\n",
    "size = None"
   ]
  },
  {
   "cell_type": "code",
   "execution_count": 4,
   "metadata": {},
   "outputs": [],
   "source": [
    "def modification(tour):\n",
    "    #return np.random.permutation(tour)\n",
    "    return tour\n",
    "def initial_tour(size):\n",
    "    l = int(size*0.75)\n",
    "    tour = np.zeros((l+1))\n",
    "    tour[0] = 0\n",
    "    tour[l] = 0\n",
    "    tour[1:l] = np.random.choice(size-1,l-1,replace=False)+1\n",
    "    return tour\n",
    "def tour_cost(tour):\n",
    "    global disMat,profits\n",
    "    tour_length = len(tour)\n",
    "    cost = 0\n",
    "    for i in range(tour_length-1):\n",
    "        cost += disMat[int(tour[i]),int(tour[i+1])]\n",
    "        cost -= profits[i]\n",
    "    return cost\n",
    "def simulated_annealing(tour,epochs,cost):\n",
    "    length = len(tour)\n",
    "    Tinit = 5\n",
    "    Tfinal = 1\n",
    "    for k in range(epochs):\n",
    "        T = np.power(Tinit*(Tfinal/Tinit),k/epochs)\n",
    "        choices = np.random.choice(length-2,2,replace=False);\n",
    "        choices = choices +1\n",
    "        i = min(choices)\n",
    "        j = max(choices)\n",
    "        new_tour = np.copy(tour);\n",
    "        new_tour[i:j+1] = tour[i:j+1][::-1];\n",
    "        new_cost = tour_cost(new_tour)\n",
    "        delta = new_cost - cost\n",
    "        p = min(np.exp(-delta/T),1)\n",
    "        if np.random.rand() < p:\n",
    "            tour = np.copy(new_tour)\n",
    "            cost = new_cost\n",
    "    return np.copy(tour),cost\n",
    "def insert(tour):\n",
    "    length = len(tour)\n",
    "    if length == size+1:\n",
    "        return simulated_annealing(tour,500,tour_cost(tour))\n",
    "    else:\n",
    "        j = np.random.choice(np.setdiff1d(range(1,size),tour),1)\n",
    "        new_tour = np.zeros(length+1)\n",
    "        shuffle = np.copy(tour[1:length-1])\n",
    "        j_ = np.random.randint(len(shuffle))\n",
    "        shuffle = np.insert(shuffle,j_,j)\n",
    "        new_tour[1:length] = modification(shuffle)\n",
    "        new_cost = tour_cost(new_tour)\n",
    "        return simulated_annealing(new_tour,inner_epochs,new_cost)\n",
    "def remove(tour):\n",
    "    length = len(tour)\n",
    "    #j = np.random.choice(length-2,1)+1\n",
    "    can = profits[tour[1:length-1]]\n",
    "    j = np.argmin(can)\n",
    "    new_tour = np.delete(tour,j+1)\n",
    "    new_tour[1:length-2] = modification(new_tour[1:length-2])\n",
    "    new_cost = tour_cost(new_tour)\n",
    "    return simulated_annealing(new_tour,200,new_cost)"
   ]
  },
  {
   "cell_type": "code",
   "execution_count": 5,
   "metadata": {},
   "outputs": [],
   "source": [
    "def meta_sa(s):\n",
    "    global profits,data,disMat,size\n",
    "    size = s\n",
    "    data,profits = load_data(1,size)\n",
    "    disMat = np.zeros((size,size))\n",
    "    best_tour = None\n",
    "    best_cost = 0\n",
    "    for i in range(size):\n",
    "        for j in range(size):\n",
    "            disMat[i,j] = np.linalg.norm(data[i,:] - data[j,:])\n",
    "    tour = initial_tour(size)\n",
    "    cost = tour_cost(tour)\n",
    "    tour,cost = simulated_annealing(tour,200,cost)\n",
    "    length = len(tour)\n",
    "    print(cost,length)\n",
    "    Tinit = 10\n",
    "    Tfinal = 1\n",
    "    for k in range(1,meta_epochs):\n",
    "        if k % 100 == 0:\n",
    "            print(k,cost,len(tour))\n",
    "        T = np.power(Tinit*(Tfinal/Tinit),k/meta_epochs)\n",
    "        p = np.random.rand() \n",
    "        if p > 0.66:\n",
    "            new_tour,new_cost = insert(tour)\n",
    "        elif 0.66 < p and 0.33 < p:\n",
    "            new_tour,new_cost = remove(tour)\n",
    "        else:\n",
    "            new_tour,new_cost = simulated_annealing(tour,1000,cost)\n",
    "        delta = new_cost - cost\n",
    "        p = min(np.exp(-delta/T),1)\n",
    "        if np.random.rand() < p:\n",
    "            tour = np.copy(new_tour)\n",
    "            cost = new_cost\n",
    "        if cost < best_cost:\n",
    "            best_tour = tour\n",
    "            best_cost = cost\n",
    "    return best_tour"
   ]
  },
  {
   "cell_type": "code",
   "execution_count": 6,
   "metadata": {},
   "outputs": [
    {
     "name": "stdout",
     "output_type": "stream",
     "text": [
      "-201.03140609088743 39\n",
      "100 -695.7202645971585 51\n",
      "200 -695.5095302034326 51\n"
     ]
    },
    {
     "ename": "KeyboardInterrupt",
     "evalue": "",
     "output_type": "error",
     "traceback": [
      "\u001b[0;31m---------------------------------------------------------------------------\u001b[0m",
      "\u001b[0;31mKeyboardInterrupt\u001b[0m                         Traceback (most recent call last)",
      "\u001b[0;32m<ipython-input-6-c52c038bc494>\u001b[0m in \u001b[0;36m<module>\u001b[0;34m()\u001b[0m\n\u001b[1;32m      1\u001b[0m \u001b[0mstart\u001b[0m \u001b[0;34m=\u001b[0m \u001b[0mtime\u001b[0m\u001b[0;34m.\u001b[0m\u001b[0mtime\u001b[0m\u001b[0;34m(\u001b[0m\u001b[0;34m)\u001b[0m\u001b[0;34m\u001b[0m\u001b[0m\n\u001b[0;32m----> 2\u001b[0;31m \u001b[0mtour_1\u001b[0m \u001b[0;34m=\u001b[0m \u001b[0mmeta_sa\u001b[0m\u001b[0;34m(\u001b[0m\u001b[0;36m51\u001b[0m\u001b[0;34m)\u001b[0m\u001b[0;34m\u001b[0m\u001b[0m\n\u001b[0m\u001b[1;32m      3\u001b[0m \u001b[0mcpu_usage\u001b[0m \u001b[0;34m=\u001b[0m \u001b[0;34m(\u001b[0m\u001b[0mtime\u001b[0m\u001b[0;34m.\u001b[0m\u001b[0mtime\u001b[0m\u001b[0;34m(\u001b[0m\u001b[0;34m)\u001b[0m\u001b[0;34m-\u001b[0m\u001b[0mstart\u001b[0m\u001b[0;34m)\u001b[0m\u001b[0;34m\u001b[0m\u001b[0m\n\u001b[1;32m      4\u001b[0m \u001b[0mcost_1\u001b[0m \u001b[0;34m=\u001b[0m \u001b[0mtour_cost\u001b[0m\u001b[0;34m(\u001b[0m\u001b[0mtour_1\u001b[0m\u001b[0;34m)\u001b[0m\u001b[0;34m\u001b[0m\u001b[0m\n\u001b[1;32m      5\u001b[0m \u001b[0mprint\u001b[0m\u001b[0;34m(\u001b[0m\u001b[0mcost_1\u001b[0m\u001b[0;34m,\u001b[0m\u001b[0mlen\u001b[0m\u001b[0;34m(\u001b[0m\u001b[0mtour_1\u001b[0m\u001b[0;34m)\u001b[0m\u001b[0;34m,\u001b[0m\u001b[0mcpu_usage\u001b[0m\u001b[0;34m)\u001b[0m\u001b[0;34m\u001b[0m\u001b[0m\n",
      "\u001b[0;32m<ipython-input-5-35f4ea2ef775>\u001b[0m in \u001b[0;36mmeta_sa\u001b[0;34m(s)\u001b[0m\n\u001b[1;32m     22\u001b[0m         \u001b[0mp\u001b[0m \u001b[0;34m=\u001b[0m \u001b[0mnp\u001b[0m\u001b[0;34m.\u001b[0m\u001b[0mrandom\u001b[0m\u001b[0;34m.\u001b[0m\u001b[0mrand\u001b[0m\u001b[0;34m(\u001b[0m\u001b[0;34m)\u001b[0m\u001b[0;34m\u001b[0m\u001b[0m\n\u001b[1;32m     23\u001b[0m         \u001b[0;32mif\u001b[0m \u001b[0mp\u001b[0m \u001b[0;34m>\u001b[0m \u001b[0;36m0.66\u001b[0m\u001b[0;34m:\u001b[0m\u001b[0;34m\u001b[0m\u001b[0m\n\u001b[0;32m---> 24\u001b[0;31m             \u001b[0mnew_tour\u001b[0m\u001b[0;34m,\u001b[0m\u001b[0mnew_cost\u001b[0m \u001b[0;34m=\u001b[0m \u001b[0minsert\u001b[0m\u001b[0;34m(\u001b[0m\u001b[0mtour\u001b[0m\u001b[0;34m)\u001b[0m\u001b[0;34m\u001b[0m\u001b[0m\n\u001b[0m\u001b[1;32m     25\u001b[0m         \u001b[0;32melif\u001b[0m \u001b[0;36m0.66\u001b[0m \u001b[0;34m<\u001b[0m \u001b[0mp\u001b[0m \u001b[0;32mand\u001b[0m \u001b[0;36m0.33\u001b[0m \u001b[0;34m<\u001b[0m \u001b[0mp\u001b[0m\u001b[0;34m:\u001b[0m\u001b[0;34m\u001b[0m\u001b[0m\n\u001b[1;32m     26\u001b[0m             \u001b[0mnew_tour\u001b[0m\u001b[0;34m,\u001b[0m\u001b[0mnew_cost\u001b[0m \u001b[0;34m=\u001b[0m \u001b[0mremove\u001b[0m\u001b[0;34m(\u001b[0m\u001b[0mtour\u001b[0m\u001b[0;34m)\u001b[0m\u001b[0;34m\u001b[0m\u001b[0m\n",
      "\u001b[0;32m<ipython-input-4-af0ee8caba19>\u001b[0m in \u001b[0;36minsert\u001b[0;34m(tour)\u001b[0m\n\u001b[1;32m     48\u001b[0m         \u001b[0mnew_tour\u001b[0m\u001b[0;34m[\u001b[0m\u001b[0;36m1\u001b[0m\u001b[0;34m:\u001b[0m\u001b[0mlength\u001b[0m\u001b[0;34m]\u001b[0m \u001b[0;34m=\u001b[0m \u001b[0mmodification\u001b[0m\u001b[0;34m(\u001b[0m\u001b[0mshuffle\u001b[0m\u001b[0;34m)\u001b[0m\u001b[0;34m\u001b[0m\u001b[0m\n\u001b[1;32m     49\u001b[0m         \u001b[0mnew_cost\u001b[0m \u001b[0;34m=\u001b[0m \u001b[0mtour_cost\u001b[0m\u001b[0;34m(\u001b[0m\u001b[0mnew_tour\u001b[0m\u001b[0;34m)\u001b[0m\u001b[0;34m\u001b[0m\u001b[0m\n\u001b[0;32m---> 50\u001b[0;31m         \u001b[0;32mreturn\u001b[0m \u001b[0msimulated_annealing\u001b[0m\u001b[0;34m(\u001b[0m\u001b[0mnew_tour\u001b[0m\u001b[0;34m,\u001b[0m\u001b[0minner_epochs\u001b[0m\u001b[0;34m,\u001b[0m\u001b[0mnew_cost\u001b[0m\u001b[0;34m)\u001b[0m\u001b[0;34m\u001b[0m\u001b[0m\n\u001b[0m\u001b[1;32m     51\u001b[0m \u001b[0;32mdef\u001b[0m \u001b[0mremove\u001b[0m\u001b[0;34m(\u001b[0m\u001b[0mtour\u001b[0m\u001b[0;34m)\u001b[0m\u001b[0;34m:\u001b[0m\u001b[0;34m\u001b[0m\u001b[0m\n\u001b[1;32m     52\u001b[0m     \u001b[0mlength\u001b[0m \u001b[0;34m=\u001b[0m \u001b[0mlen\u001b[0m\u001b[0;34m(\u001b[0m\u001b[0mtour\u001b[0m\u001b[0;34m)\u001b[0m\u001b[0;34m\u001b[0m\u001b[0m\n",
      "\u001b[0;32m<ipython-input-4-af0ee8caba19>\u001b[0m in \u001b[0;36msimulated_annealing\u001b[0;34m(tour, epochs, cost)\u001b[0m\n\u001b[1;32m     29\u001b[0m         \u001b[0mnew_tour\u001b[0m \u001b[0;34m=\u001b[0m \u001b[0mnp\u001b[0m\u001b[0;34m.\u001b[0m\u001b[0mcopy\u001b[0m\u001b[0;34m(\u001b[0m\u001b[0mtour\u001b[0m\u001b[0;34m)\u001b[0m\u001b[0;34m;\u001b[0m\u001b[0;34m\u001b[0m\u001b[0m\n\u001b[1;32m     30\u001b[0m         \u001b[0mnew_tour\u001b[0m\u001b[0;34m[\u001b[0m\u001b[0mi\u001b[0m\u001b[0;34m:\u001b[0m\u001b[0mj\u001b[0m\u001b[0;34m+\u001b[0m\u001b[0;36m1\u001b[0m\u001b[0;34m]\u001b[0m \u001b[0;34m=\u001b[0m \u001b[0mtour\u001b[0m\u001b[0;34m[\u001b[0m\u001b[0mi\u001b[0m\u001b[0;34m:\u001b[0m\u001b[0mj\u001b[0m\u001b[0;34m+\u001b[0m\u001b[0;36m1\u001b[0m\u001b[0;34m]\u001b[0m\u001b[0;34m[\u001b[0m\u001b[0;34m:\u001b[0m\u001b[0;34m:\u001b[0m\u001b[0;34m-\u001b[0m\u001b[0;36m1\u001b[0m\u001b[0;34m]\u001b[0m\u001b[0;34m;\u001b[0m\u001b[0;34m\u001b[0m\u001b[0m\n\u001b[0;32m---> 31\u001b[0;31m         \u001b[0mnew_cost\u001b[0m \u001b[0;34m=\u001b[0m \u001b[0mtour_cost\u001b[0m\u001b[0;34m(\u001b[0m\u001b[0mnew_tour\u001b[0m\u001b[0;34m)\u001b[0m\u001b[0;34m\u001b[0m\u001b[0m\n\u001b[0m\u001b[1;32m     32\u001b[0m         \u001b[0mdelta\u001b[0m \u001b[0;34m=\u001b[0m \u001b[0mnew_cost\u001b[0m \u001b[0;34m-\u001b[0m \u001b[0mcost\u001b[0m\u001b[0;34m\u001b[0m\u001b[0m\n\u001b[1;32m     33\u001b[0m         \u001b[0mp\u001b[0m \u001b[0;34m=\u001b[0m \u001b[0mmin\u001b[0m\u001b[0;34m(\u001b[0m\u001b[0mnp\u001b[0m\u001b[0;34m.\u001b[0m\u001b[0mexp\u001b[0m\u001b[0;34m(\u001b[0m\u001b[0;34m-\u001b[0m\u001b[0mdelta\u001b[0m\u001b[0;34m/\u001b[0m\u001b[0mT\u001b[0m\u001b[0;34m)\u001b[0m\u001b[0;34m,\u001b[0m\u001b[0;36m1\u001b[0m\u001b[0;34m)\u001b[0m\u001b[0;34m\u001b[0m\u001b[0m\n",
      "\u001b[0;32m<ipython-input-4-af0ee8caba19>\u001b[0m in \u001b[0;36mtour_cost\u001b[0;34m(tour)\u001b[0m\n\u001b[1;32m     14\u001b[0m     \u001b[0mcost\u001b[0m \u001b[0;34m=\u001b[0m \u001b[0;36m0\u001b[0m\u001b[0;34m\u001b[0m\u001b[0m\n\u001b[1;32m     15\u001b[0m     \u001b[0;32mfor\u001b[0m \u001b[0mi\u001b[0m \u001b[0;32min\u001b[0m \u001b[0mrange\u001b[0m\u001b[0;34m(\u001b[0m\u001b[0mtour_length\u001b[0m\u001b[0;34m-\u001b[0m\u001b[0;36m1\u001b[0m\u001b[0;34m)\u001b[0m\u001b[0;34m:\u001b[0m\u001b[0;34m\u001b[0m\u001b[0m\n\u001b[0;32m---> 16\u001b[0;31m         \u001b[0mcost\u001b[0m \u001b[0;34m+=\u001b[0m \u001b[0mdisMat\u001b[0m\u001b[0;34m[\u001b[0m\u001b[0mint\u001b[0m\u001b[0;34m(\u001b[0m\u001b[0mtour\u001b[0m\u001b[0;34m[\u001b[0m\u001b[0mi\u001b[0m\u001b[0;34m]\u001b[0m\u001b[0;34m)\u001b[0m\u001b[0;34m,\u001b[0m\u001b[0mint\u001b[0m\u001b[0;34m(\u001b[0m\u001b[0mtour\u001b[0m\u001b[0;34m[\u001b[0m\u001b[0mi\u001b[0m\u001b[0;34m+\u001b[0m\u001b[0;36m1\u001b[0m\u001b[0;34m]\u001b[0m\u001b[0;34m)\u001b[0m\u001b[0;34m]\u001b[0m\u001b[0;34m\u001b[0m\u001b[0m\n\u001b[0m\u001b[1;32m     17\u001b[0m         \u001b[0mcost\u001b[0m \u001b[0;34m-=\u001b[0m \u001b[0mprofits\u001b[0m\u001b[0;34m[\u001b[0m\u001b[0mi\u001b[0m\u001b[0;34m]\u001b[0m\u001b[0;34m\u001b[0m\u001b[0m\n\u001b[1;32m     18\u001b[0m     \u001b[0;32mreturn\u001b[0m \u001b[0mcost\u001b[0m\u001b[0;34m\u001b[0m\u001b[0m\n",
      "\u001b[0;31mKeyboardInterrupt\u001b[0m: "
     ]
    }
   ],
   "source": [
    "start = time.time()\n",
    "tour_1 = meta_sa(51)\n",
    "cpu_usage = (time.time()-start)\n",
    "cost_1 = tour_cost(tour_1)\n",
    "print(cost_1,len(tour_1),cpu_usage)\n",
    "print(tour_1)"
   ]
  },
  {
   "cell_type": "code",
   "execution_count": null,
   "metadata": {},
   "outputs": [],
   "source": [
    "start = time.time()\n",
    "tour_2 = meta_sa(76)\n",
    "cpu_usage = (time.time()-start)\n",
    "cost_2 = tour_cost(tour_2)\n",
    "print(cost_2,len(tour_2),cpu_usage)\n",
    "print(tour_2)"
   ]
  },
  {
   "cell_type": "code",
   "execution_count": null,
   "metadata": {},
   "outputs": [],
   "source": [
    "start = time.time()\n",
    "tour_3 = meta_sa(101)\n",
    "cpu_usage = (time.time()-start)\n",
    "cost_3 = tour_cost(tour_3)\n",
    "print(cost_3,len(tour_3),cpu_usage)\n",
    "print(tour_3)"
   ]
  },
  {
   "cell_type": "code",
   "execution_count": null,
   "metadata": {},
   "outputs": [],
   "source": [
    "len(tour_2)"
   ]
  },
  {
   "cell_type": "code",
   "execution_count": null,
   "metadata": {},
   "outputs": [],
   "source": [
    "len(tour_3)"
   ]
  },
  {
   "cell_type": "code",
   "execution_count": null,
   "metadata": {},
   "outputs": [],
   "source": [
    "profits[[1,2,4]]\n"
   ]
  },
  {
   "cell_type": "code",
   "execution_count": null,
   "metadata": {},
   "outputs": [],
   "source": []
  }
 ],
 "metadata": {
  "kernelspec": {
   "display_name": "Python 3",
   "language": "python",
   "name": "python3"
  },
  "language_info": {
   "codemirror_mode": {
    "name": "ipython",
    "version": 3
   },
   "file_extension": ".py",
   "mimetype": "text/x-python",
   "name": "python",
   "nbconvert_exporter": "python",
   "pygments_lexer": "ipython3",
   "version": "3.5.2"
  }
 },
 "nbformat": 4,
 "nbformat_minor": 2
}
