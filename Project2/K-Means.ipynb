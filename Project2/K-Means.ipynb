{
 "cells": [
  {
   "cell_type": "code",
   "execution_count": 209,
   "metadata": {},
   "outputs": [],
   "source": [
    "import numpy as np\n",
    "import matplotlib.pyplot as plt"
   ]
  },
  {
   "cell_type": "code",
   "execution_count": 210,
   "metadata": {},
   "outputs": [],
   "source": [
    "def dist(point1,point2):\n",
    "    return np.sum((point1-point2)**2)\n",
    "def assign_centroid(point,centroids,k):\n",
    "    d = dist(point,centroids[:,0])\n",
    "    ind = 0\n",
    "    for i in range(1,k):\n",
    "        temp_d = dist(point,centroids[:,i])\n",
    "        if d > temp_d:\n",
    "            d = temp_d\n",
    "            ind = i\n",
    "    return ind, d\n",
    "def k_menas(points,k):\n",
    "    p_size = points.shape[1]\n",
    "    mu = np.mean(points,axis=1).reshape([2,-1])\n",
    "    std = np.std(points,axis=1).reshape([2,-1])\n",
    "    centroids = (2*np.random.rand(2,k)-1)*2*std + mu\n",
    "    plt.scatter(points[0,:],points[1,:],label='Points')\n",
    "    plt.scatter(centroids[0,:],centroids[1,:],label='Initial Centroids')\n",
    "    old_total_cost = 0\n",
    "    total_cost = 0\n",
    "    while(1):\n",
    "        new_centroids = np.zeros((2,k))\n",
    "        cnt = np.zeros((2,k))\n",
    "        old_total_cost = total_cost\n",
    "        total_cost = 0\n",
    "        for i in range(p_size):\n",
    "            ind,cost = assign_centroid(points[:,i],centroids,k)\n",
    "            new_centroids[:,ind] += points[:,i]\n",
    "            cnt[:,ind] += 1\n",
    "            total_cost += cost\n",
    "        centroids = new_centroids / cnt\n",
    "        print(total_cost)\n",
    "        if np.abs(old_total_cost-total_cost) < 0.001:\n",
    "            break\n",
    "        if total_cost-old_total_cost > 0 and old_total_cost!=0:\n",
    "            print(\"Error\")\n",
    "    plt.scatter(centroids[0,:],centroids[1,:],label='Final Centroids')\n",
    "    plt.legend()\n",
    "    return centroids"
   ]
  },
  {
   "cell_type": "code",
   "execution_count": 211,
   "metadata": {},
   "outputs": [
    {
     "name": "stdout",
     "output_type": "stream",
     "text": [
      "51.26354597110444\n",
      "32.57261617429435\n",
      "30.247917348665002\n",
      "28.926075826492276\n",
      "28.63835380532057\n",
      "28.49154042967545\n",
      "28.310309132411966\n",
      "28.28474330323964\n",
      "28.28474330323964\n"
     ]
    },
    {
     "data": {
      "text/plain": [
       "array([[-1.39776552, -0.32027738, -0.76889313, -1.75664968,  0.38697609,\n",
       "        -0.5689919 ,  1.27307432, -0.60304972,  0.91317766, -1.25901485],\n",
       "       [ 0.2130611 , -1.75746645,  0.59130215, -0.84871448, -0.04490855,\n",
       "         1.54575321, -0.97642258, -0.15748625,  1.19308649,  1.93755005]])"
      ]
     },
     "execution_count": 211,
     "metadata": {},
     "output_type": "execute_result"
    },
    {
     "data": {
      "image/png": "[encoded data removed]",
      "text/plain": [
       "<Figure size 432x288 with 1 Axes>"
      ]
     },
     "metadata": {},
     "output_type": "display_data"
    }
   ],
   "source": [
    "k_menas(np.random.randn(2,100),10)"
   ]
  },
  {
   "cell_type": "code",
   "execution_count": null,
   "metadata": {},
   "outputs": [],
   "source": []
  }
 ],
 "metadata": {
  "kernelspec": {
   "display_name": "Python 3",
   "language": "python",
   "name": "python3"
  },
  "language_info": {
   "codemirror_mode": {
    "name": "ipython",
    "version": 3
   },
   "file_extension": ".py",
   "mimetype": "text/x-python",
   "name": "python",
   "nbconvert_exporter": "python",
   "pygments_lexer": "ipython3",
   "version": "3.5.2"
  }
 },
 "nbformat": 4,
 "nbformat_minor": 2
}
