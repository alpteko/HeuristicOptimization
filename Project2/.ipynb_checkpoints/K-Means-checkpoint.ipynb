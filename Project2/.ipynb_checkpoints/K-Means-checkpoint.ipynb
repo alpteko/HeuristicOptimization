{
 "cells": [
  {
   "cell_type": "code",
   "execution_count": 183,
   "metadata": {},
   "outputs": [],
   "source": [
    "import numpy as np\n",
    "import matplotlib.pyplot as plt"
   ]
  },
  {
   "cell_type": "code",
   "execution_count": 207,
   "metadata": {},
   "outputs": [],
   "source": [
    "def dist(point1,point2):\n",
    "    return np.sum((point1-point2)**2)\n",
    "def assign_centroid(point,centroids,k):\n",
    "    d = dist(point,centroids[:,0])\n",
    "    ind = 0\n",
    "    for i in range(1,k):\n",
    "        temp_d = dist(point,centroids[:,i])\n",
    "        if d > temp_d:\n",
    "            d = temp_d\n",
    "            ind = i\n",
    "    return ind, d\n",
    "def k_menas(points,k):\n",
    "    p_size = points.shape[1]\n",
    "    mu = np.mean(points,axis=1).reshape([2,-1])\n",
    "    std = np.std(points,axis=1).reshape([2,-1])\n",
    "    centroids = (2*np.random.rand(2,k)-1)*2*std + mu\n",
    "    plt.scatter(points[0,:],points[1,:],label='Points')\n",
    "    plt.scatter(centroids[0,:],centroids[1,:],label='Initial Centroids')\n",
    "    old_total_cost = 0\n",
    "    total_cost = 0\n",
    "    while(1):\n",
    "        new_centroids = np.zeros((2,k))\n",
    "        cnt = np.zeros((2,k))\n",
    "        old_total_cost = total_cost\n",
    "        total_cost = 0\n",
    "        for i in range(p_size):\n",
    "            ind,cost = assign_centroid(points[:,i],centroids,k)\n",
    "            new_centroids[:,ind] += points[:,i]\n",
    "            cnt[:,ind] += 1\n",
    "            total_cost += cost\n",
    "        centroids = new_centroids / cnt\n",
    "        print(total_cost)\n",
    "        if np.abs(old_total_cost-total_cost) < 0.001:\n",
    "            break\n",
    "        if total_cost-old_total_cost > 0 and old_total_cost!=0:\n",
    "            print(\"Error\")\n",
    "    plt.scatter(centroids[0,:],centroids[1,:],label='Final Centroids')\n",
    "    plt.legend()\n",
    "    return centroids"
   ]
  },
  {
   "cell_type": "code",
   "execution_count": 208,
   "metadata": {},
   "outputs": [
    {
     "name": "stdout",
     "output_type": "stream",
     "text": [
      "64.19773299044903\n",
      "29.609668440978925\n",
      "25.689163448323306\n",
      "24.377171171022535\n",
      "23.789040788472168\n",
      "23.671074847284043\n",
      "23.627217810420337\n",
      "23.627217810420337\n"
     ]
    },
    {
     "data": {
      "text/plain": [
       "array([[ 1.45738731, -1.64053294,  0.49155341, -0.39475837,  0.58908715,\n",
       "        -0.99521684,  1.57990322,  0.29471616, -1.44495423, -0.43799402],\n",
       "       [-1.03557398,  0.40025632, -0.57259916, -1.07127201, -1.96708651,\n",
       "        -0.45011455,  0.36432237,  1.22028154,  1.49634312,  0.26103246]])"
      ]
     },
     "execution_count": 208,
     "metadata": {},
     "output_type": "execute_result"
    },
    {
     "data": {
      "image/png": "[encoded data removed]",
      "text/plain": [
       "<Figure size 432x288 with 1 Axes>"
      ]
     },
     "metadata": {},
     "output_type": "display_data"
    }
   ],
   "source": [
    "k_menas(np.random.randn(2,100),10)"
   ]
  }
 ],
 "metadata": {
  "kernelspec": {
   "display_name": "Python 3",
   "language": "python",
   "name": "python3"
  },
  "language_info": {
   "codemirror_mode": {
    "name": "ipython",
    "version": 3
   },
   "file_extension": ".py",
   "mimetype": "text/x-python",
   "name": "python",
   "nbconvert_exporter": "python",
   "pygments_lexer": "ipython3",
   "version": "3.5.2"
  }
 },
 "nbformat": 4,
 "nbformat_minor": 2
}
