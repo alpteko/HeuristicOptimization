{
 "cells": [
  {
   "cell_type": "code",
   "execution_count": 12,
   "metadata": {},
   "outputs": [],
   "source": [
    "import numpy as np\n",
    "\n",
    "def load_data():\n",
    "    data = np.loadtxt('data.txt')\n",
    "    data = data[:,0:2]\n",
    "    return data"
   ]
  },
  {
   "cell_type": "code",
   "execution_count": 13,
   "metadata": {},
   "outputs": [],
   "source": [
    "def init_facilities(k):\n",
    "    mask = np.random.randint(k,size=654)\n",
    "    return mask"
   ]
  },
  {
   "cell_type": "code",
   "execution_count": 41,
   "metadata": {},
   "outputs": [],
   "source": [
    "def find_cost(mask,data,k):\n",
    "    mu_array = np.zeros((654,2))\n",
    "    for i in range(k):\n",
    "        mu = np.mean(data[mask==i,:],axis=0)\n",
    "        mu_array[mask==i,:] = mu\n",
    "    return np.sum((data-mu_array)**2)"
   ]
  },
  {
   "cell_type": "code",
   "execution_count": null,
   "metadata": {},
   "outputs": [],
   "source": [
    "def sqrt_cost(mask,data,k):\n",
    "    mu_array = np.zeros((654,2))\n",
    "    for i in range(k):\n",
    "        mu = np.mean(data[mask==i,:],axis=0)\n",
    "        mu_array[mask==i,:] = mu\n",
    "    total_cost = 0\n",
    "    for i in range(654):\n",
    "        total_cost += np.linalg.norm(data[i,:]-mu[i,:])\n",
    "    return total_cost"
   ]
  }
 ],
 "metadata": {
  "kernelspec": {
   "display_name": "Python 3",
   "language": "python",
   "name": "python3"
  },
  "language_info": {
   "codemirror_mode": {
    "name": "ipython",
    "version": 3
   },
   "file_extension": ".py",
   "mimetype": "text/x-python",
   "name": "python",
   "nbconvert_exporter": "python",
   "pygments_lexer": "ipython3",
   "version": "3.5.2"
  }
 },
 "nbformat": 4,
 "nbformat_minor": 2
}
