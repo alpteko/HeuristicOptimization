{
 "cells": [
  {
   "cell_type": "code",
   "execution_count": 92,
   "metadata": {},
   "outputs": [],
   "source": [
    "import numpy as np"
   ]
  },
  {
   "cell_type": "code",
   "execution_count": 93,
   "metadata": {},
   "outputs": [],
   "source": [
    "def load_data():\n",
    "    data = np.loadtxt('data.txt')\n",
    "    data = data[:,0:2]\n",
    "    return data"
   ]
  },
  {
   "cell_type": "code",
   "execution_count": 134,
   "metadata": {},
   "outputs": [],
   "source": [
    "def init_facilities(k):\n",
    "    data= load_data()\n",
    "    solution =  []\n",
    "    T = len(data)\n",
    "    mask = np.random.randint(k,size=T)\n",
    "    for i in range(k):\n",
    "        ind = list(np.where(mask==i)[0])\n",
    "        solution.append(list(data[ind,:]))\n",
    "    return solution"
   ]
  }
 ],
 "metadata": {
  "kernelspec": {
   "display_name": "Python 3",
   "language": "python",
   "name": "python3"
  },
  "language_info": {
   "codemirror_mode": {
    "name": "ipython",
    "version": 3
   },
   "file_extension": ".py",
   "mimetype": "text/x-python",
   "name": "python",
   "nbconvert_exporter": "python",
   "pygments_lexer": "ipython3",
   "version": "3.5.2"
  }
 },
 "nbformat": 4,
 "nbformat_minor": 2
}
