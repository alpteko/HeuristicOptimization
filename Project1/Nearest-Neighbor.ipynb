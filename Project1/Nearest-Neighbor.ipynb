{
 "cells": [
  {
   "cell_type": "code",
   "execution_count": 2,
   "metadata": {},
   "outputs": [],
   "source": [
    "import numpy as np"
   ]
  },
  {
   "cell_type": "code",
   "execution_count": 50,
   "metadata": {},
   "outputs": [],
   "source": [
    "def dist(c1, c2):\n",
    "    return np.linalg.norm(c1-c2)\n",
    "\n",
    "def tour_cost(tour):\n",
    "    t = len(tour)\n",
    "    l = 0\n",
    "    for i in range(t-1):\n",
    "        l += dist(tour[i], tour[i+1])\n",
    "    return l\n",
    "\n",
    "\n",
    "def find_min(city, city_map):\n",
    "    minimum = 100\n",
    "    target = 0\n",
    "    for i, c in enumerate(city_map):\n",
    "        if minimum > dist(city, c):\n",
    "            target = i\n",
    "            minimum = dist(city, c)\n",
    "    return target, minimum\n",
    "\n",
    "\n",
    "def one_sided_nn(index, city_map):\n",
    "    city = city_map[index]\n",
    "    city_map.pop(index)\n",
    "    tour = [city]\n",
    "    while len(city_map) > 0:\n",
    "        index,_ = find_min(city, city_map)\n",
    "        city = city_map[index]\n",
    "        tour.append(city)\n",
    "        city_map.pop(index)\n",
    "    tour.append(tour[0])\n",
    "    return tour\n",
    "\n",
    "\n",
    "def two_sided_nn(index, city_map):\n",
    "    city1 = city_map[index]\n",
    "    city2 = city_map[index]\n",
    "    city_map.pop(index)\n",
    "    tour = [city1]\n",
    "    while len(city_map) > 0:\n",
    "        index1, cost1 = find_min(city1, city_map)\n",
    "        index2, cost2 = find_min(city2, city_map)\n",
    "        if cost1 < cost2:\n",
    "            tour.insert(0, city_map[index1])\n",
    "            city_map.pop(index1)\n",
    "        else:\n",
    "            tour.append(city_map[index2])\n",
    "            city_map.pop(index2)\n",
    "        city1 = tour[0]\n",
    "        city2 = tour[-1]\n",
    "    tour.append(tour[0])\n",
    "    return tour\n",
    "\n",
    "def solve_tsp(file, opt_file, initial,mode=0):\n",
    "    data = np.loadtxt(file)\n",
    "    data = list(data[:, 1:3])\n",
    "    index = np.loadtxt(opt_file).astype(int)\n",
    "    opt_tour = [data[i-1] for i in index]\n",
    "    opt_cost = tour_cost(opt_tour)    \n",
    "    if mode == 0:\n",
    "        tour = nn.one_sided_nn(initial-1,data)\n",
    "    else:\n",
    "        tour = nn.two_sided_nn(initial-1,data)\n",
    "    return tour, opt_tour    "
   ]
  },
  {
   "cell_type": "markdown",
   "metadata": {},
   "source": [
    "# ONE SIDED"
   ]
  },
  {
   "cell_type": "code",
   "execution_count": 55,
   "metadata": {},
   "outputs": [
    {
     "name": "stdout",
     "output_type": "stream",
     "text": [
      "Data/eil51.dat 10 --->> opt_cost: 429.98331198338406  cost: 558.8489723118043 =====>>> rate: 0.2996992132880731\n",
      "Data/eil51.dat 20 --->> opt_cost: 429.98331198338406  cost: 567.3036601077918 =====>>> rate: 0.31936204103129057\n",
      "Data/eil51.dat 30 --->> opt_cost: 429.98331198338406  cost: 520.017605097069 =====>>> rate: 0.20939020330436492\n",
      "Data/eil76.dat 10 --->> opt_cost: 545.3875524687445  cost: 640.5328421165345 =====>>> rate: 0.17445445760011674\n",
      "Data/eil76.dat 20 --->> opt_cost: 545.3875524687445  cost: 735.9833417313552 =====>>> rate: 0.3494685355392915\n",
      "Data/eil76.dat 30 --->> opt_cost: 545.3875524687445  cost: 730.2851078509722 =====>>> rate: 0.33902049019137437\n",
      "Data/eil101.dat 10 --->> opt_cost: 642.3095357906022  cost: 796.0413972056176 =====>>> rate: 0.23934233083709522\n",
      "Data/eil101.dat 20 --->> opt_cost: 642.3095357906022  cost: 800.7084055666616 =====>>> rate: 0.2466083110242015\n",
      "Data/eil101.dat 30 --->> opt_cost: 642.3095357906022  cost: 776.5184013198424 =====>>> rate: 0.20894733465858625\n"
     ]
    }
   ],
   "source": [
    "file_list = ['Data/eil51.dat','Data/eil76.dat','Data/eil101.dat']\n",
    "opt_file_list = ['Data/eil51opt.dat','Data/eil76opt.dat','Data/eil101opt.dat']\n",
    "initial_list = [10,20,30]\n",
    "for i in range(3):\n",
    "    file = file_list[i]\n",
    "    opt_file = opt_file_list[i]\n",
    "    for initial in initial_list:\n",
    "        tour, opt_tour = solve_tsp(file,opt_file, initial,mode=0)\n",
    "        cost = tour_cost(tour)\n",
    "        opt_cost = tour_cost(opt_tour)\n",
    "        rate = (cost-opt_cost)/opt_cost\n",
    "        print(file,initial,'--->>','opt_cost:',opt_cost,' cost:',cost,'=====>>>','rate:',rate)"
   ]
  },
  {
   "cell_type": "markdown",
   "metadata": {},
   "source": [
    "# TWO SIDED"
   ]
  },
  {
   "cell_type": "code",
   "execution_count": 54,
   "metadata": {},
   "outputs": [
    {
     "name": "stdout",
     "output_type": "stream",
     "text": [
      "Data/eil51.dat 10 --->> opt_cost: 429.98331198338406  cost: 558.4765822120565 =====>>> rate: 0.29883315618918227\n",
      "Data/eil51.dat 20 --->> opt_cost: 429.98331198338406  cost: 545.5857559447712 =====>>> rate: 0.26885332695389447\n",
      "Data/eil51.dat 30 --->> opt_cost: 429.98331198338406  cost: 520.6559209549482 =====>>> rate: 0.21087471640077984\n",
      "Data/eil76.dat 10 --->> opt_cost: 545.3875524687445  cost: 699.0735089203617 =====>>> rate: 0.2817921966791217\n",
      "Data/eil76.dat 20 --->> opt_cost: 545.3875524687445  cost: 699.9979652887348 =====>>> rate: 0.28348724154068555\n",
      "Data/eil76.dat 30 --->> opt_cost: 545.3875524687445  cost: 662.9133337247779 =====>>> rate: 0.2154903989356608\n",
      "Data/eil101.dat 10 --->> opt_cost: 642.3095357906022  cost: 816.6552201314739 =====>>> rate: 0.27143561573669317\n",
      "Data/eil101.dat 20 --->> opt_cost: 642.3095357906022  cost: 833.6123962802178 =====>>> rate: 0.297835933969353\n",
      "Data/eil101.dat 30 --->> opt_cost: 642.3095357906022  cost: 833.6123962802178 =====>>> rate: 0.297835933969353\n"
     ]
    }
   ],
   "source": [
    "file_list = ['Data/eil51.dat','Data/eil76.dat','Data/eil101.dat']\n",
    "opt_file_list = ['Data/eil51opt.dat','Data/eil76opt.dat','Data/eil101opt.dat']\n",
    "initial_list = [10,20,30]\n",
    "for i in range(3):\n",
    "    file = file_list[i]\n",
    "    opt_file = opt_file_list[i]\n",
    "    for initial in initial_list:\n",
    "        tour, opt_tour = solve_tsp(file,opt_file, initial,mode=1)\n",
    "        cost = tour_cost(tour)\n",
    "        opt_cost = tour_cost(opt_tour)\n",
    "        rate = (cost-opt_cost)/opt_cost\n",
    "        print(file,initial,'--->>','opt_cost:',opt_cost,' cost:',cost,'=====>>>','rate:',rate)"
   ]
  },
  {
   "cell_type": "code",
   "execution_count": null,
   "metadata": {},
   "outputs": [],
   "source": []
  }
 ],
 "metadata": {
  "kernelspec": {
   "display_name": "Python 3",
   "language": "python",
   "name": "python3"
  },
  "language_info": {
   "codemirror_mode": {
    "name": "ipython",
    "version": 3
   },
   "file_extension": ".py",
   "mimetype": "text/x-python",
   "name": "python",
   "nbconvert_exporter": "python",
   "pygments_lexer": "ipython3",
   "version": "3.5.2"
  }
 },
 "nbformat": 4,
 "nbformat_minor": 2
}
